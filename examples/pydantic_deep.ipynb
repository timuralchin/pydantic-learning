{
 "cells": [
  {
   "cell_type": "code",
   "execution_count": 50,
   "metadata": {},
   "outputs": [],
   "source": [
    "from pydantic import BaseModel,  validator, root_validator, Field, conint,  constr\n",
    "\n",
    "\n",
    "class User(BaseModel):\n",
    "\n",
    "    id: int = Field(alias='userId')\n",
    "    name: str\n",
    "\n",
    "    class Config:\n",
    "        max_anystr_length = 10\n",
    "        validate_assignment = True\n",
    "\n",
    "    @validator('id')\n",
    "    def validate_id(cls, value):\n",
    "        if value < 4:\n",
    "            raise ValueError('Low id')\n",
    "        return value\n",
    "\n",
    "    @root_validator\n",
    "    def validate_all(cls, values):\n",
    "        if values.get('name') != 'test':\n",
    "            raise ValueError('Invalid')\n",
    "        return values\n"
   ]
  },
  {
   "cell_type": "code",
   "execution_count": 51,
   "metadata": {},
   "outputs": [
    {
     "ename": "ValidationError",
     "evalue": "1 validation error for User\nuserId\n  Low id (type=value_error)",
     "output_type": "error",
     "traceback": [
      "\u001b[0;31m---------------------------------------------------------------------------\u001b[0m",
      "\u001b[0;31mValidationError\u001b[0m                           Traceback (most recent call last)",
      "\u001b[1;32m/home/timur/pydantic-learning/examples/pydantic_deep.ipynb Cell 2\u001b[0m in \u001b[0;36m<cell line: 1>\u001b[0;34m()\u001b[0m\n\u001b[0;32m----> <a href='vscode-notebook-cell://wsl%2Bubuntu/home/timur/pydantic-learning/examples/pydantic_deep.ipynb#ch0000001vscode-remote?line=0'>1</a>\u001b[0m User(userId\u001b[39m=\u001b[39;49m\u001b[39m1\u001b[39;49m, name\u001b[39m=\u001b[39;49m\u001b[39m'\u001b[39;49m\u001b[39mtest\u001b[39;49m\u001b[39m'\u001b[39;49m)\n",
      "File \u001b[0;32m~/.cache/pypoetry/virtualenvs/pydantic-learning-lD9JAZgo-py3.9/lib/python3.9/site-packages/pydantic/main.py:341\u001b[0m, in \u001b[0;36mpydantic.main.BaseModel.__init__\u001b[0;34m()\u001b[0m\n",
      "\u001b[0;31mValidationError\u001b[0m: 1 validation error for User\nuserId\n  Low id (type=value_error)"
     ]
    }
   ],
   "source": [
    "User(userId=1, name='test')"
   ]
  },
  {
   "cell_type": "code",
   "execution_count": 52,
   "metadata": {},
   "outputs": [
    {
     "ename": "ValidationError",
     "evalue": "1 validation error for User\nid\n  value is not a valid integer (type=type_error.integer)",
     "output_type": "error",
     "traceback": [
      "\u001b[0;31m---------------------------------------------------------------------------\u001b[0m",
      "\u001b[0;31mValidationError\u001b[0m                           Traceback (most recent call last)",
      "\u001b[1;32m/home/timur/pydantic-learning/examples/pydantic_deep.ipynb Cell 3\u001b[0m in \u001b[0;36m<cell line: 2>\u001b[0;34m()\u001b[0m\n\u001b[1;32m      <a href='vscode-notebook-cell://wsl%2Bubuntu/home/timur/pydantic-learning/examples/pydantic_deep.ipynb#ch0000002vscode-remote?line=0'>1</a>\u001b[0m user \u001b[39m=\u001b[39m User(userId\u001b[39m=\u001b[39m\u001b[39m4\u001b[39m, name\u001b[39m=\u001b[39m\u001b[39m'\u001b[39m\u001b[39mtest\u001b[39m\u001b[39m'\u001b[39m)\n\u001b[0;32m----> <a href='vscode-notebook-cell://wsl%2Bubuntu/home/timur/pydantic-learning/examples/pydantic_deep.ipynb#ch0000002vscode-remote?line=1'>2</a>\u001b[0m user\u001b[39m.\u001b[39mid \u001b[39m=\u001b[39m \u001b[39m'\u001b[39m\u001b[39mstr\u001b[39m\u001b[39m'\u001b[39m\n",
      "File \u001b[0;32m~/.cache/pypoetry/virtualenvs/pydantic-learning-lD9JAZgo-py3.9/lib/python3.9/site-packages/pydantic/main.py:380\u001b[0m, in \u001b[0;36mpydantic.main.BaseModel.__setattr__\u001b[0;34m()\u001b[0m\n",
      "\u001b[0;31mValidationError\u001b[0m: 1 validation error for User\nid\n  value is not a valid integer (type=type_error.integer)"
     ]
    }
   ],
   "source": [
    "user = User(userId=4, name='test')\n",
    "user.id = 'str'"
   ]
  },
  {
   "cell_type": "code",
   "execution_count": 53,
   "metadata": {},
   "outputs": [
    {
     "ename": "ValidationError",
     "evalue": "1 validation error for User\n__root__\n  Invalid (type=value_error)",
     "output_type": "error",
     "traceback": [
      "\u001b[0;31m---------------------------------------------------------------------------\u001b[0m",
      "\u001b[0;31mValidationError\u001b[0m                           Traceback (most recent call last)",
      "\u001b[1;32m/home/timur/pydantic-learning/examples/pydantic_deep.ipynb Cell 4\u001b[0m in \u001b[0;36m<cell line: 1>\u001b[0;34m()\u001b[0m\n\u001b[0;32m----> <a href='vscode-notebook-cell://wsl%2Bubuntu/home/timur/pydantic-learning/examples/pydantic_deep.ipynb#ch0000003vscode-remote?line=0'>1</a>\u001b[0m User(userId\u001b[39m=\u001b[39;49m\u001b[39m4\u001b[39;49m, name\u001b[39m=\u001b[39;49m\u001b[39m'\u001b[39;49m\u001b[39mtes12t\u001b[39;49m\u001b[39m'\u001b[39;49m)\n",
      "File \u001b[0;32m~/.cache/pypoetry/virtualenvs/pydantic-learning-lD9JAZgo-py3.9/lib/python3.9/site-packages/pydantic/main.py:341\u001b[0m, in \u001b[0;36mpydantic.main.BaseModel.__init__\u001b[0;34m()\u001b[0m\n",
      "\u001b[0;31mValidationError\u001b[0m: 1 validation error for User\n__root__\n  Invalid (type=value_error)"
     ]
    }
   ],
   "source": [
    "User(userId=4, name='tes12t')"
   ]
  },
  {
   "cell_type": "code",
   "execution_count": 43,
   "metadata": {},
   "outputs": [
    {
     "data": {
      "text/plain": [
       "User(id=4, name='test')"
      ]
     },
     "execution_count": 43,
     "metadata": {},
     "output_type": "execute_result"
    }
   ],
   "source": [
    "User(userId=4, name='test', ololo='test')"
   ]
  },
  {
   "cell_type": "code",
   "execution_count": null,
   "metadata": {},
   "outputs": [],
   "source": [
    "new_user = User(**{'userId':123, 'name':'test'})\n",
    "print(new_user.json(by_alias=True))\n",
    "print(new_user.id)"
   ]
  },
  {
   "cell_type": "code",
   "execution_count": 47,
   "metadata": {},
   "outputs": [],
   "source": [
    "from pydantic import BaseModel, conint,  constr\n",
    "\n",
    "\n",
    "class ValidateUser(BaseModel):\n",
    "\n",
    "    id: conint(gt=1)\n",
    "    name: constr(strip_whitespace=True, max_length=3)\n",
    "\n"
   ]
  },
  {
   "cell_type": "code",
   "execution_count": 48,
   "metadata": {},
   "outputs": [
    {
     "ename": "ValidationError",
     "evalue": "1 validation error for ValidateUser\nid\n  ensure this value is greater than 1 (type=value_error.number.not_gt; limit_value=1)",
     "output_type": "error",
     "traceback": [
      "\u001b[0;31m---------------------------------------------------------------------------\u001b[0m",
      "\u001b[0;31mValidationError\u001b[0m                           Traceback (most recent call last)",
      "\u001b[1;32m/home/timur/pydantic-learning/examples/pydantic_deep.ipynb Cell 8\u001b[0m in \u001b[0;36m<cell line: 1>\u001b[0;34m()\u001b[0m\n\u001b[0;32m----> <a href='vscode-notebook-cell://wsl%2Bubuntu/home/timur/pydantic-learning/examples/pydantic_deep.ipynb#ch0000007vscode-remote?line=0'>1</a>\u001b[0m ValidateUser(\u001b[39mid\u001b[39;49m\u001b[39m=\u001b[39;49m\u001b[39m1\u001b[39;49m, name\u001b[39m=\u001b[39;49m\u001b[39m'\u001b[39;49m\u001b[39maa\u001b[39;49m\u001b[39m'\u001b[39;49m)\n",
      "File \u001b[0;32m~/.cache/pypoetry/virtualenvs/pydantic-learning-lD9JAZgo-py3.9/lib/python3.9/site-packages/pydantic/main.py:341\u001b[0m, in \u001b[0;36mpydantic.main.BaseModel.__init__\u001b[0;34m()\u001b[0m\n",
      "\u001b[0;31mValidationError\u001b[0m: 1 validation error for ValidateUser\nid\n  ensure this value is greater than 1 (type=value_error.number.not_gt; limit_value=1)"
     ]
    }
   ],
   "source": [
    "ValidateUser(id=1, name='aa')"
   ]
  },
  {
   "cell_type": "code",
   "execution_count": 49,
   "metadata": {},
   "outputs": [
    {
     "ename": "ValidationError",
     "evalue": "1 validation error for ValidateUser\nname\n  ensure this value has at most 3 characters (type=value_error.any_str.max_length; limit_value=3)",
     "output_type": "error",
     "traceback": [
      "\u001b[0;31m---------------------------------------------------------------------------\u001b[0m",
      "\u001b[0;31mValidationError\u001b[0m                           Traceback (most recent call last)",
      "\u001b[1;32m/home/timur/pydantic-learning/examples/pydantic_deep.ipynb Cell 9\u001b[0m in \u001b[0;36m<cell line: 1>\u001b[0;34m()\u001b[0m\n\u001b[0;32m----> <a href='vscode-notebook-cell://wsl%2Bubuntu/home/timur/pydantic-learning/examples/pydantic_deep.ipynb#ch0000008vscode-remote?line=0'>1</a>\u001b[0m ValidateUser(\u001b[39mid\u001b[39;49m\u001b[39m=\u001b[39;49m\u001b[39m4\u001b[39;49m, name\u001b[39m=\u001b[39;49m\u001b[39m'\u001b[39;49m\u001b[39maaaa\u001b[39;49m\u001b[39m'\u001b[39;49m)\n",
      "File \u001b[0;32m~/.cache/pypoetry/virtualenvs/pydantic-learning-lD9JAZgo-py3.9/lib/python3.9/site-packages/pydantic/main.py:341\u001b[0m, in \u001b[0;36mpydantic.main.BaseModel.__init__\u001b[0;34m()\u001b[0m\n",
      "\u001b[0;31mValidationError\u001b[0m: 1 validation error for ValidateUser\nname\n  ensure this value has at most 3 characters (type=value_error.any_str.max_length; limit_value=3)"
     ]
    }
   ],
   "source": [
    "ValidateUser(id=4, name='aaaa')\n"
   ]
  }
 ],
 "metadata": {
  "kernelspec": {
   "display_name": "Python 3.9.13 ('pydantic-learning-lD9JAZgo-py3.9')",
   "language": "python",
   "name": "python3"
  },
  "language_info": {
   "codemirror_mode": {
    "name": "ipython",
    "version": 3
   },
   "file_extension": ".py",
   "mimetype": "text/x-python",
   "name": "python",
   "nbconvert_exporter": "python",
   "pygments_lexer": "ipython3",
   "version": "3.9.13"
  },
  "orig_nbformat": 4,
  "vscode": {
   "interpreter": {
    "hash": "e691f28c3b5440eaf141cbfcdef8f43ff434e528f31de44402411801c9266976"
   }
  }
 },
 "nbformat": 4,
 "nbformat_minor": 2
}
