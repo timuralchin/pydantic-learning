{
 "cells": [
  {
   "cell_type": "code",
   "execution_count": 45,
   "metadata": {},
   "outputs": [],
   "source": [
    "from marshmallow import Schema, fields, post_load, EXCLUDE\n",
    "from dataclasses import dataclass\n",
    "\n",
    "\n",
    "@dataclass\n",
    "class User:\n",
    "\n",
    "    id: int\n",
    "    name: str\n",
    "\n",
    "\n",
    "class UserSchema(Schema):\n",
    "\n",
    "    id =  fields.Int()\n",
    "    name = fields.String()\n",
    "\n",
    "    @post_load\n",
    "    def create_user(self, data, **kwargs):\n",
    "        return User(**data)\n"
   ]
  },
  {
   "cell_type": "code",
   "execution_count": 50,
   "metadata": {},
   "outputs": [],
   "source": [
    "import json\n",
    "\n",
    "user_schema = UserSchema()\n",
    "\n",
    "user = user_schema.load({'id': 4, 'name': 'test'})\n"
   ]
  },
  {
   "cell_type": "code",
   "execution_count": 51,
   "metadata": {},
   "outputs": [
    {
     "data": {
      "text/plain": [
       "User(id=4, name='test')"
      ]
     },
     "execution_count": 51,
     "metadata": {},
     "output_type": "execute_result"
    }
   ],
   "source": [
    "user"
   ]
  },
  {
   "cell_type": "code",
   "execution_count": 52,
   "metadata": {},
   "outputs": [],
   "source": [
    "import marshmallow_dataclass\n",
    "\n",
    "\n",
    "new_user_schema_class = marshmallow_dataclass.class_schema(User)()\n",
    "new_user = new_user_schema_class.load({'id': 4, 'name': 'test'})\n"
   ]
  },
  {
   "cell_type": "code",
   "execution_count": 53,
   "metadata": {},
   "outputs": [
    {
     "data": {
      "text/plain": [
       "User(id=4, name='test')"
      ]
     },
     "execution_count": 53,
     "metadata": {},
     "output_type": "execute_result"
    }
   ],
   "source": [
    "new_user"
   ]
  }
 ],
 "metadata": {
  "kernelspec": {
   "display_name": "Python 3.9.13 ('pydantic-learning-lD9JAZgo-py3.9')",
   "language": "python",
   "name": "python3"
  },
  "language_info": {
   "codemirror_mode": {
    "name": "ipython",
    "version": 3
   },
   "file_extension": ".py",
   "mimetype": "text/x-python",
   "name": "python",
   "nbconvert_exporter": "python",
   "pygments_lexer": "ipython3",
   "version": "3.9.13"
  },
  "orig_nbformat": 4,
  "vscode": {
   "interpreter": {
    "hash": "e691f28c3b5440eaf141cbfcdef8f43ff434e528f31de44402411801c9266976"
   }
  }
 },
 "nbformat": 4,
 "nbformat_minor": 2
}
