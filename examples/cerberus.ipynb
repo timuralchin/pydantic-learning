{
 "cells": [
  {
   "cell_type": "code",
   "execution_count": 2,
   "metadata": {},
   "outputs": [],
   "source": [
    "from cerberus import Validator\n",
    "\n",
    "user_schema = {\n",
    "    'id': {'type': 'integer'},\n",
    "    'name': {'type': 'string', 'maxlength': 10},\n",
    "}\n",
    "user = Validator(user_schema)\n"
   ]
  },
  {
   "cell_type": "code",
   "execution_count": 3,
   "metadata": {},
   "outputs": [
    {
     "data": {
      "text/plain": [
       "True"
      ]
     },
     "execution_count": 3,
     "metadata": {},
     "output_type": "execute_result"
    }
   ],
   "source": [
    "first_user = {'id': 123, 'name': 'Ivan'}\n",
    "user.validate(first_user)\n"
   ]
  },
  {
   "cell_type": "code",
   "execution_count": 4,
   "metadata": {},
   "outputs": [
    {
     "data": {
      "text/plain": [
       "{'test': ['unknown field']}"
      ]
     },
     "execution_count": 4,
     "metadata": {},
     "output_type": "execute_result"
    }
   ],
   "source": [
    "second_user = first_user.copy()\n",
    "second_user.update({'test': 'test'})\n",
    "user.validate(second_user)\n",
    "user.errors\n"
   ]
  }
 ],
 "metadata": {
  "kernelspec": {
   "display_name": "Python 3.9.13 ('pydantic-learning-lD9JAZgo-py3.9')",
   "language": "python",
   "name": "python3"
  },
  "language_info": {
   "codemirror_mode": {
    "name": "ipython",
    "version": 3
   },
   "file_extension": ".py",
   "mimetype": "text/x-python",
   "name": "python",
   "nbconvert_exporter": "python",
   "pygments_lexer": "ipython3",
   "version": "3.9.12"
  },
  "orig_nbformat": 4,
  "vscode": {
   "interpreter": {
    "hash": "e691f28c3b5440eaf141cbfcdef8f43ff434e528f31de44402411801c9266976"
   }
  }
 },
 "nbformat": 4,
 "nbformat_minor": 2
}
